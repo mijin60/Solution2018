{
 "cells": [
  {
   "cell_type": "markdown",
   "metadata": {},
   "source": [
    "## 1. 다음 6 개의 Expression에 대해 Evaluation 결과 값을 출력하고, 해당 결과가 나온 이유에 대해 설명하시오"
   ]
  },
  {
   "cell_type": "code",
   "execution_count": 6,
   "metadata": {},
   "outputs": [
    {
     "name": "stdout",
     "output_type": "stream",
     "text": [
      "4\n",
      "1\n",
      "2\n",
      "2\n",
      "1\n",
      "3\n"
     ]
    }
   ],
   "source": [
    "print(1 and 2 and 3 and 4)\n",
    "print(1 or 2 or 3 or 4)\n",
    "print(1 and 2 or 3 and 4)\n",
    "print((1 and 2) or (3 and 4))\n",
    "print(1 or 2 and 3 or 4)\n",
    "print((1 or 2) and (3 or 4))\n"
   ]
  },
  {
   "cell_type": "markdown",
   "metadata": {},
   "source": [
    "1. 모두 and로 연결되어있기때문에 마지막값 4까지 True인지 판단해야 한다. 따라서 4가 출력된다.\n",
    "2. 1뒤에 or이 있고 or은 하나만 True여도 True로 판단되기 때문에 1이 이미 True이므로 뒤의 값까지 판단하지 않고 1을 출력한다.\n",
    "3. 1다음 and가 있어서 2까지 판단하고 뒤는 or이기 때문에 뒤를 더 보지 않고 2를 출력한다.\n",
    "4. 1과2는 괄호로 묶여있고 and로 연결되어있기 때문에 2까지 판단하고 뒤는 or이기 때문에 이미 True여서 2를 출력한다.\n",
    "5. 1다음 or이기 때문에 뒤를 더 보지 않고 1을 출력한다.\n",
    "6. (1or2)와(3or4)가 and로 연결되어있기 때문에 1 or 2가 True인지 먼저 판단한다. True이기 때문에 3 or 4를 보고, 3이 True이기 때문에 3을 출력한다."
   ]
  },
  {
   "cell_type": "markdown",
   "metadata": {},
   "source": [
    "## 2. 경로에 해당하는 문자열 1개를 입력 받아 그 안에 디렉토리 경로명과 파일명을 분리하여 리스트로 반환하는 함수 div_path(s)를 작성하시오."
   ]
  },
  {
   "cell_type": "markdown",
   "metadata": {},
   "source": [
    "### 인자로 전달하는 문자열은 경로만 들어간다고 가정한다.\n",
    "### 각 디렉토리와 파일을 구분하는 문자는 '/'로 가정한다.\n",
    "### 반환하는 리스트의 첫번째 원소는 디렉토리이고 두번째 원소는 파일명이다.\n",
    "### 다음과 같은 실행 및 출력 결과가 도출되어야 한다.\n",
    "### div_path('/usr/local/bin/python')\n",
    "### ['/usr/local/bin', 'python']\n",
    "### div_path('/home/chulsoo/test.txt')\n",
    "### ['/home/chulsoo', 'test.txt']\n",
    "#### [참고] 리스트(l) 내에 새로운 정수값 (예를 들어 10)을 넣는 방법은 l.append(10) 이다."
   ]
  },
  {
   "cell_type": "code",
   "execution_count": 27,
   "metadata": {},
   "outputs": [],
   "source": [
    "def div_path():\n",
    "    s = input(\"디렉토리 경로를 입력하세요! :\")\n",
    "    b = []\n",
    "    I =[]\n",
    "    b = s.split('/')\n",
    "    b2 = '/'.join(b[0:len(b)-1])\n",
    "    I.append(b2)\n",
    "    I.append(b[len(b)-1])\n",
    "    print(I)\n"
   ]
  },
  {
   "cell_type": "code",
   "execution_count": 28,
   "metadata": {},
   "outputs": [
    {
     "name": "stdout",
     "output_type": "stream",
     "text": [
      "디렉토리 경로를 입력하세요! :/usr/local/bin/python\n",
      "['/usr/local/bin', 'python']\n"
     ]
    }
   ],
   "source": [
    "div_path()"
   ]
  },
  {
   "cell_type": "markdown",
   "metadata": {},
   "source": [
    "함수 div_path를 작성하고 문자열을 s에 입력받는다. split으로 /단위로 나눠주고 맨 마지막 파일명만 분리해주기 위하여\n",
    "join으로 파일명을 제외한 나머지 부분을 합쳐준다. I.append로 합친 앞 부분을 리스트에 추가하고 다음으로 마지막 파일명을 리스트에 추가한다."
   ]
  },
  {
   "cell_type": "markdown",
   "metadata": {},
   "source": [
    "## 3. 두 개의 리스트를 인자로 받아서 그 두 개의 리스트에 대한 '합집합'을 반환하는 함수 list_union(lista, listb)를 작성하시오."
   ]
  },
  {
   "cell_type": "markdown",
   "metadata": {},
   "source": [
    "### 인자로 전달하는 리스트 2 개에는 정수값만 들어간다고 가정하자.\n",
    "### 함수 내에서 새로운 리스트를 만들어 그 리스트 내에 인자로 받은 두 리스트의 모든 원소를 넣어 반환한다.\n",
    "### 반환하는 리스트에는 절대로 중복된 원소가 들어 있으면 안된다 (집합의 조건).\n",
    "### 반환하는 리스트는 정렬이 되어 있어야 한다.\n",
    "### 다음과 같은 실행 및 출력 결과가 도출되어야 한다.\n",
    "### list_union([1, 2, 3], [1, 2, 4])\n",
    "### [1, 2, 3, 4]\n",
    "### list_union([-10, -5, 0, -1], [100, 9, 0, 9])\n",
    "### [-10, -5, -1, 0, 9, 100]\n",
    "### list_union([0, 1, 2], [0, 1, 2])\n",
    "### [0, 1, 2]\n",
    "#### [참고] 리스트(l) 내에 새로운 정수값 (예를 들어 10)을 넣는 방법은 l.append(10) 이다.\n",
    "#### [참고] 임의의 정수값 (x)이 리스트 (l) 내에 존재하는지 판단하는 방법은 x in l 이다."
   ]
  },
  {
   "cell_type": "code",
   "execution_count": 45,
   "metadata": {},
   "outputs": [],
   "source": [
    "def list_union(lista, listb):\n",
    "    h=[]\n",
    "    I=[]\n",
    "    h = lista+listb\n",
    "    m=h.sort()\n",
    "    for i in h:\n",
    "        I.append(i)\n",
    "        for p in range(h.count(i)-1):\n",
    "            h.remove(i)\n",
    "    print(I)"
   ]
  },
  {
   "cell_type": "code",
   "execution_count": 47,
   "metadata": {},
   "outputs": [
    {
     "name": "stdout",
     "output_type": "stream",
     "text": [
      "[1, 2, 3, 4]\n",
      "[-10, -5, -1, 0, 9, 100]\n",
      "[0, 1, 2]\n"
     ]
    }
   ],
   "source": [
    "list_union([1, 2, 3], [1, 2, 4])\n",
    "list_union([-10, -5, 0, -1], [100, 9, 0, 9])\n",
    "list_union([0, 1, 2], [0, 1, 2])"
   ]
  },
  {
   "cell_type": "markdown",
   "metadata": {},
   "source": [
    "합집합을 반환하기 위한 함수 list_union을 작성하고, 리스트 h와i를 초기화한다. 두개의 리스트를 합치기 위해 +를 사용해 합쳐주고, \n",
    "sort()로 정렬한다. 두개의 리스트를 합친 값을 I에 저장하고 count로 중복이 되는지 판단하고 중복된 값 만큼 remove로 중복값을 지워준다."
   ]
  },
  {
   "cell_type": "markdown",
   "metadata": {},
   "source": [
    "## 4. 알파벳 소문자로만 이루어진 단어 S가 주어진다. 각각의 알파벳에 대해서, 단어에 포함되어 있는 경우에는 처음 등장하는 위치를, 포함되어 있지 않은 경우에는 -1을 출력하는 프로그램을 작성하시오."
   ]
  },
  {
   "cell_type": "code",
   "execution_count": 68,
   "metadata": {
    "scrolled": true
   },
   "outputs": [
    {
     "name": "stdout",
     "output_type": "stream",
     "text": [
      "mijin\n",
      "-1 -1 -1 -1 -1 -1 -1 -1 1 2 -1 -1 0 4 -1 -1 -1 -1 -1 -1 -1 -1 -1 -1 -1 -1 "
     ]
    }
   ],
   "source": [
    "S = str(input())\n",
    "\n",
    "Alpha = ['a','b','c','d','e','f','g','h','i','j','k','l','m','n','o','p','q','r','s','t','u','v','w','x','y','z']\n",
    "num = [-1 for i in range(26)]\n",
    "for i in range(len(S)):\n",
    "    for j in range(len(Alpha)):\n",
    "        if S[i] == Alpha[j]:\n",
    "            if num[j] == -1:\n",
    "                num[j] = i\n",
    "for i in range(len(num)):\n",
    "    print(num[i], end=' ')"
   ]
  },
  {
   "cell_type": "markdown",
   "metadata": {},
   "source": [
    "<img src=\"\">"
   ]
  },
  {
   "cell_type": "markdown",
   "metadata": {},
   "source": [
    "<img src=\"img/10809.PNG\">"
   ]
  },
  {
   "cell_type": "markdown",
   "metadata": {},
   "source": [
    "a-z리스트를 작성하고 길이가 26인 num리스트를 작성한다. for문을 통해 입력된 단어에 있는 문자의 갯수만틈 반복하고\n",
    "다음 for문에서 알파벳 갯수만큼 반복한다. if문으로 입력된 문자와 알파벳이 같다면 해당 알파벡의 자리에 위치를 입력하고 등장하지 않는다면\n",
    "-1을 출력한다."
   ]
  },
  {
   "cell_type": "markdown",
   "metadata": {},
   "source": [
    "## 5. 문자열 S를 입력받은 후에, 각 문자를 R번 반복해 새 문자열 P를 만든 후 출력하는 프로그램을 작성하시오. 즉, 첫 번째 문자를 R번 반복하고, 두 번째 문자를 R번 반복하는 식으로 P를 만들면 된다. S에는 QR Code \"alphanumeric\" 문자만 들어있다.QR Code \"alphanumeric\" 문자는 0123456789ABCDEFGHIJKLMNOPQRSTUVWXYZ\\$%*+-./: 이다."
   ]
  },
  {
   "cell_type": "code",
   "execution_count": 53,
   "metadata": {},
   "outputs": [
    {
     "name": "stdout",
     "output_type": "stream",
     "text": [
      "2\n",
      "3 HM\n",
      "HHHMMM\n",
      "2 MIN\n",
      "MMIINN\n"
     ]
    }
   ],
   "source": [
    "C = int(input())\n",
    "\n",
    "while C >0:\n",
    "    R, S = map(str, input().split())\n",
    "    R = int(R)\n",
    "    for i in range(len(S)):\n",
    "        print(R*S[i],end='')\n",
    "    print()\n",
    "    C -= 1"
   ]
  },
  {
   "cell_type": "markdown",
   "metadata": {},
   "source": [
    "<img src=\"img/2675.PNG\">"
   ]
  },
  {
   "cell_type": "markdown",
   "metadata": {},
   "source": [
    "c에 input값을 저장한다. c가 0보다 클 때 input으로 입력받은 값을 공백으로 나누어서 r과s에 각각 저장한다.\n",
    "r에 있는 값을 int로 형변환 한다. for문을 통해 문자열 s의 각 요소를 r번 반복한다"
   ]
  },
  {
   "cell_type": "markdown",
   "metadata": {},
   "source": [
    "## 6. 웹 URL로 지정된 웹페이지를 문자열로 가져와 1) 모든 HTML 태그를 제외한 순수 텍스트 문자열만을 걸러내고, 2) 그 순수 텍스트 문자열 안에 존재하는 단어가 총 몇개인지 출력하는 프로그램을 작성하시오."
   ]
  },
  {
   "cell_type": "markdown",
   "metadata": {},
   "source": [
    "HTML 태그는 다음 조건을 가지는 것이다.\n",
    "\n",
    "< 로 시작하여 >로 끝난다.\n",
    "예를 들어, 아래와 같은 HTML 내용 내에 한 줄이 있다고 가정하자.\n",
    "<label for=\"keep_signed\">로그인 유지</label>\n",
    "위 소스에서 HTML 태그를 제외한 순수 텍스트 문자열은 아래와 같다.\n",
    "로그인 유지\n",
    "한편, 아래와 같은 HTML 한 줄이 있다고 가정하자.\n",
    "<link rel=\"stylesheet\" href=\"/common/css/xe.min.css?20150910092654\" />\n",
    "위 한 줄은 HTML 태그로만 구성된 것이며 걸러낼 수 있는 순수 텍스 문자열은 존재하지 않는다.\n",
    "단어를 나누는 기준은 오로지 공백문자 (whitespace)이다.\n",
    "\n",
    "즉, 위 순수 텍스트 문자열인 \"로그인 유지\"에서 분리한 단어는 \"로그인\"과 \"유지\"이다.\n",
    "중복을 고려하지 않고 무조건 모든 단어의 개수를 세어서 출력한다.\n",
    "본 숙제를 위하여 HTML 파싱과 관련된 모듈 (예. BeautifulSoup) 사용 금지\n",
    "다음은 URL로 지정된 웹페이지를 특정 문자열로 가져오는 코드이다.\n",
    "즉, 숙제 코드는 아래 코드로 부터 시작해야 한다.\n",
    "아래 코드 수행시 requests 모듈이 존재하지 않는 에러가 발생하면 command 창에서 다음 코드 입력하여 requests 모듈 설치후 아래 코드 수행"
   ]
  },
  {
   "cell_type": "code",
   "execution_count": 54,
   "metadata": {},
   "outputs": [],
   "source": [
    "import requests\n",
    "\n",
    "req = requests.get('http://cse.koreatech.ac.kr')\n",
    "\n",
    "source = req.text"
   ]
  },
  {
   "cell_type": "code",
   "execution_count": 1,
   "metadata": {},
   "outputs": [],
   "source": [
    "#print(source)"
   ]
  },
  {
   "cell_type": "code",
   "execution_count": 67,
   "metadata": {},
   "outputs": [
    {
     "name": "stdout",
     "output_type": "stream",
     "text": [
      "11694\n"
     ]
    }
   ],
   "source": [
    "h=[]\n",
    "m=[]\n",
    "p=[]\n",
    "m=source.split('<')\n",
    "\n",
    "for i in m:\n",
    "    if '>' in i:\n",
    "        index=i.find('>')\n",
    "        h.append(i[index+1:])\n",
    "\n",
    "p=' '.join(h)    \n",
    "print(p.count(' '))\n"
   ]
  },
  {
   "cell_type": "markdown",
   "metadata": {},
   "source": [
    "처음으로 <으로 문자열을 나누어 주고 리스트에 저장한다. 그 리스트 각 요소에 해당하는 문자열이 >를 포함하고 있는지 검토하여 >뒤부터의 모든 문자열을\n",
    "새로운 리스트에 추가한다. 리스트 각 요소를 공백으로 합쳐서 문자열로 반환한다. 그 문자열을 공백을 기준으로 카운트한다."
   ]
  },
  {
   "cell_type": "markdown",
   "metadata": {},
   "source": [
    "### 소감\n",
    "\n",
    "이번 과제는 저번에 비하여 난이도가 높게 느껴졌다. 온라인 강의를 한번 더 보고 온라인 강의를 보며 작성했다.\n",
    "문자열과 리스트 관련 메소드가 너무 많아서 코드를 작성할 때 헷갈렸다. 하지만 과제를 수행하다보니 자주 쓰는 메소드는 익숙해져서\n",
    "헷갈리지 않고 작성할 수 있었다. 마지막 과제에서는 어떤 단위로 문자를 쪼개야 하는지 생각하고 이것저것 작성하여 가장 편한 단위를 찾아냈다.\n",
    "코드를 작성하다보니 나에게 더 잘 맞는 방식을 깨닫게 된 것 같다."
   ]
  }
 ],
 "metadata": {
  "kernelspec": {
   "display_name": "Python 3",
   "language": "python",
   "name": "python3"
  },
  "language_info": {
   "codemirror_mode": {
    "name": "ipython",
    "version": 3
   },
   "file_extension": ".py",
   "mimetype": "text/x-python",
   "name": "python",
   "nbconvert_exporter": "python",
   "pygments_lexer": "ipython3",
   "version": "3.7.0"
  }
 },
 "nbformat": 4,
 "nbformat_minor": 2
}
