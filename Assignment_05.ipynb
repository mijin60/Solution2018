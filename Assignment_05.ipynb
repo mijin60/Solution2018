{
 "cells": [
  {
   "cell_type": "markdown",
   "metadata": {},
   "source": [
    "## 1. 클래스와 모듈의 공통점과 차이점에 대해 설명하시오."
   ]
  },
  {
   "cell_type": "markdown",
   "metadata": {},
   "source": [
    " 클래스와 모듈을 공통적으로 이름공간을 구성한다. 또한 변수와 함수를 분리된 형태가 아닌 하나로 사용할 수 있다. 따라서 편리성이 뛰어나다.\n",
    "    클래스의 경우 객체를 만들어서 사용하기때문에 영역 내에 따로 이름 공간을 구성하고 모듈은 따로 객체를 만드는 것이 아닌 연관된 코드를 묶어 파일단위로 구성한다는 차이점이 있다. "
   ]
  },
  {
   "cell_type": "markdown",
   "metadata": {},
   "source": [
    "## 2. 다형성에 대해 설명하고 다형성을 보여주는 자신만의 파이썬 코드 예제를 제시하시오."
   ]
  },
  {
   "cell_type": "markdown",
   "metadata": {},
   "source": [
    "다형성은 같은 상속 관계내에 있는 서로 다른 클래스들의 인스턴스들이 같은 멤버함수 호출에 대해 다르게 반응하도록 하는 기능이다.\n",
    "다형성은 하나의 호출로 여러 다른 기능을 수행하게 할 수 있으므로 코드의 양을 줄여준다."
   ]
  },
  {
   "cell_type": "code",
   "execution_count": 5,
   "metadata": {},
   "outputs": [
    {
     "name": "stdout",
     "output_type": "stream",
     "text": [
      "September 30\n",
      "HaMin\n",
      "Mijin\n",
      "Love\n"
     ]
    }
   ],
   "source": [
    "class FirstDate:\n",
    "    def date(self):\n",
    "        print ('September 30')\n",
    "class Boy:\n",
    "    def date(self):\n",
    "        print ('HaMin')\n",
    "class Girl:\n",
    "    def date(self):\n",
    "        print ('Mijin')\n",
    "class They:\n",
    "    def date(self):\n",
    "        print ('Love')\n",
    "\n",
    "for each in (FirstDate(), Boy(), Girl(), They()):\n",
    "    each.date()"
   ]
  },
  {
   "cell_type": "markdown",
   "metadata": {},
   "source": [
    "다형성을 보여주기위하여 저만 알 수 있는 코드를 작성하였습니다. 각 클래스 안의 정보는 date라는 하나의 호출로 다른 수행을 하는 모습을 볼 수 있습니다."
   ]
  },
  {
   "cell_type": "markdown",
   "metadata": {},
   "source": [
    "## 3. 다음 각 요구사항 모두를 만족시키는 Counter 클래스를 코딩하시오 (정답을 각 요구사항별로 입력할 필요 없이 3번 문제에 대해 1개의 클래스 정의 코드를 제시하면 된다.)"
   ]
  },
  {
   "cell_type": "markdown",
   "metadata": {},
   "source": [
    "* 요구사항 1. 생성자에 count 값과 step 값을 인자로 받을 수 있다.\n",
    "    * count: Counter 인스턴스가 지니는 초기 정수 값\n",
    "    * step: Counter 인스턴스의 count가 증가되는 증분 (defalt 값: 1) \n",
    "   "
   ]
  },
  {
   "cell_type": "markdown",
   "metadata": {},
   "source": [
    "* 요구사항 2. 다음과 같이 Counter의 인스턴스를 출력을 해주는 str() 메소드를 Counter 클래스 내에 구현하시오."
   ]
  },
  {
   "cell_type": "markdown",
   "metadata": {},
   "source": [
    "* 요구사항 3. 다음과 같이 step에 주어진 증분만큼 count를 증가시키는 incr() 메소드를 Counter 클래스 내에 구현하시오."
   ]
  },
  {
   "cell_type": "markdown",
   "metadata": {},
   "source": [
    "* 요구사항 4. Counter 클래스 내에 관련 메소드를 추가하여 인스턴스 객체를 직접 호출(call)할 수 있도록 하시오. 인스턴스 객체를 직접 호출했을 때에 내부적으로 incr() 메소드를 호출하는 방법으로 구현하시오."
   ]
  },
  {
   "cell_type": "markdown",
   "metadata": {},
   "source": [
    "* 요구사항 5. 다음과 같은 두 개의 산술 연산 (+, -)이 수행될 수 있도록 Counter 클래스 내에 관련 메소드를 추가하시오."
   ]
  },
  {
   "cell_type": "markdown",
   "metadata": {},
   "source": [
    "* 요구사항 6. 다음과 같은 관계연산 (>, <, ==)이 수행될 수 있도록 Counter 클래스 내에 관련 메소드를 추가하시오."
   ]
  },
  {
   "cell_type": "code",
   "execution_count": 17,
   "metadata": {},
   "outputs": [
    {
     "name": "stdout",
     "output_type": "stream",
     "text": [
      "요구사항 1\n",
      "\n",
      "요구사항2\n",
      "[Count (Step: 1)] 10\n",
      "[Count (Step: 2)] 10\n",
      "\n",
      "요구사항3\n",
      "[Count (Step: 1)] 11\n",
      "[Count (Step: 2)] 12\n",
      "\n",
      "요구사항4\n",
      "[Count (Step: 1)] 12\n",
      "[Count (Step: 2)] 14\n",
      "\n",
      "요구사항5\n",
      "[Count (Step: 1)] 17\n",
      "[Count (Step: 2)] 9\n",
      "\n",
      "요구사항6\n"
     ]
    },
    {
     "ename": "TypeError",
     "evalue": "'>' not supported between instances of 'Counter' and 'int'",
     "output_type": "error",
     "traceback": [
      "\u001b[1;31m---------------------------------------------------------------------------\u001b[0m",
      "\u001b[1;31mTypeError\u001b[0m                                 Traceback (most recent call last)",
      "\u001b[1;32m<ipython-input-17-ee1116f45b66>\u001b[0m in \u001b[0;36m<module>\u001b[1;34m()\u001b[0m\n\u001b[0;32m     49\u001b[0m \u001b[0mprint\u001b[0m \u001b[1;33m(\u001b[0m\u001b[1;33m)\u001b[0m\u001b[1;33m\u001b[0m\u001b[0m\n\u001b[0;32m     50\u001b[0m \u001b[0mprint\u001b[0m\u001b[1;33m(\u001b[0m\u001b[1;34m'요구사항6'\u001b[0m\u001b[1;33m)\u001b[0m\u001b[1;33m\u001b[0m\u001b[0m\n\u001b[1;32m---> 51\u001b[1;33m \u001b[0mprint\u001b[0m \u001b[1;33m(\u001b[0m\u001b[0mc\u001b[0m \u001b[1;33m>\u001b[0m \u001b[1;36m10\u001b[0m\u001b[1;33m)\u001b[0m\u001b[1;33m\u001b[0m\u001b[0m\n\u001b[0m\u001b[0;32m     52\u001b[0m \u001b[0mprint\u001b[0m \u001b[1;33m(\u001b[0m\u001b[0md\u001b[0m \u001b[1;33m>\u001b[0m \u001b[1;36m10\u001b[0m\u001b[1;33m)\u001b[0m\u001b[1;33m\u001b[0m\u001b[0m\n\u001b[0;32m     53\u001b[0m \u001b[0mprint\u001b[0m \u001b[1;33m(\u001b[0m\u001b[0mc\u001b[0m \u001b[1;33m<\u001b[0m \u001b[1;36m10\u001b[0m\u001b[1;33m)\u001b[0m\u001b[1;33m\u001b[0m\u001b[0m\n",
      "\u001b[1;31mTypeError\u001b[0m: '>' not supported between instances of 'Counter' and 'int'"
     ]
    }
   ],
   "source": [
    "class Counter():\n",
    "    def __init__(self,count,step=1):\n",
    "        self.count = count\n",
    "        self.step = step \n",
    "        \n",
    "    def __str__(self):\n",
    "        return str('[Count (Step: %d)] %d' % (self.step, self.count)) \n",
    "    \n",
    "    def incr(self):\n",
    "        self.count += self.step \n",
    "        \n",
    "    def __call__(self, *args):\n",
    "        self.incr() \n",
    "  \n",
    "    def __add__(self, num):\n",
    "        self.count+=num\n",
    "        return self \n",
    "    def __sub__(self, num):\n",
    "        self.count-=num\n",
    "        return self \n",
    " \n",
    "    def __cmp__(self, other):\n",
    "        return self.count - other \n",
    "print('요구사항 1')   \n",
    "c = Counter(10)\n",
    "d = Counter(10,2)\n",
    "print ()\n",
    "print('요구사항2')\n",
    "print (c)\n",
    "print (d)\n",
    "print ()\n",
    "print('요구사항3')\n",
    "c.incr()\n",
    "d.incr()\n",
    "print (c)\n",
    "print (d)\n",
    "print ()\n",
    "print('요구사항4')\n",
    "c()\n",
    "d()\n",
    "print (c)\n",
    "print (d)\n",
    "print ()\n",
    "print('요구사항5')\n",
    "c= c + 5\n",
    "d= d -5\n",
    "print (c)\n",
    "print (d)\n",
    "print ()\n",
    "print('요구사항6')\n",
    "print (c > 10)\n",
    "print (d > 10)\n",
    "print (c < 10)\n",
    "print (d < 10)\n",
    "print (c == 17)\n",
    "print (d != 9)"
   ]
  },
  {
   "cell_type": "markdown",
   "metadata": {},
   "source": [
    "1번은 생성자를 만드는 사항으로__init__을 생성하고 인자를 받는다. 이때 디폴트값은1로 한다.\n",
    "\n",
    "2번은 __str__을 만들고 string값을 반환하게 한다.\n",
    "\n",
    "3번은 incr함수를 정의하고 함수가 호출되면 count가 증가하게 한다.\n",
    "\n",
    "4번은 __call__함수를 정의하는 것이다.\n",
    "\n",
    "5번은 산술연산을 위해 __add__, __sub__함수를 정의한다. 이때 반환값은self로 한다.\n",
    "6번은 관계\n",
    "연산으로 참거짓을 받으려면__cmp__를 정의하면 된다."
   ]
  },
  {
   "cell_type": "markdown",
   "metadata": {},
   "source": [
    "## 4. 다음은 내장 자료형 list를 서브클래싱하여 만든 MySet 클래스 정의 내용이다. 다음 클래스 정의에서 __init__(), __str()__(), elimicate_duplicate()의 세 개의 메소드 코드 내용을 자신이 다른 사람에게 가르친다고 생각하며 설명해보시오."
   ]
  },
  {
   "cell_type": "markdown",
   "metadata": {},
   "source": [
    "* MySet은 집합(Set) 자료형을 정의하려는 의도하에 만들어진 클래스이다."
   ]
  },
  {
   "cell_type": "code",
   "execution_count": 18,
   "metadata": {},
   "outputs": [
    {
     "name": "stdout",
     "output_type": "stream",
     "text": [
      "MySet: {1 ,2 ,3}\n",
      "MySet: {2 ,3 ,4 ,5 ,6 ,7 ,8 ,9}\n"
     ]
    }
   ],
   "source": [
    "class MySet(list):\n",
    "    def __init__(self, l):\n",
    "        for e in l:\n",
    "            self.append(e)\n",
    "        MySet.eliminate_duplicate(self)\n",
    "    \n",
    "    def __str__(self):\n",
    "        result = \"MySet: {\"\n",
    "        for e in self:\n",
    "            result = result + str(e) + \" ,\"\n",
    "        result = result[0:len(result)-2] + \"}\"\n",
    "        return result\n",
    "\n",
    "    @staticmethod    \n",
    "    def eliminate_duplicate(l):\n",
    "        s = []\n",
    "        for e in l:\n",
    "            if e not in s:\n",
    "                s.append(e)\n",
    "        l[:] = []\n",
    "        for e in s:\n",
    "            l.append(e)\n",
    "\n",
    "    \n",
    "if __name__ == \"__main__\":\n",
    "    s = MySet([1, 2, 2, 3])\n",
    "    print(s)\n",
    "    t = MySet([2, 3, 4, 5, 6, 7, 8, 8, 8, 8, 8, 9])\n",
    "    print(t)"
   ]
  },
  {
   "cell_type": "markdown",
   "metadata": {},
   "source": [
    "1. __init__()은 생성자 메소드이다. 리스트의 구성원들을 for문을 통해 받아오고 eliminate_duplicate 함수를 클래스를 이용하여 호출한다.\n",
    "\n",
    "2. __str__()은 출력시 이용하는 함수이다. for문을 이용해 result 안에 \" 원소값 + ',' \" 를 계속 해서 넣어 주고 for문이 끝난 후에는 마지막 ','를 제거하고 \"}\"를 넣어 주고, result 값을 반환해 준다.\n",
    "\n",
    "3. eliminate_duplication()은 중복되는 원소들을 제거하는 함수이다. 빈 리스트(s)를 만들고 새로 들어온 리스트(ㅣ)가 리스트s에 없으면 집어넣어준다. 그리고 리스트l을 비우고 다시 인자로 넣어주는 것을 반복한다.\n"
   ]
  },
  {
   "cell_type": "markdown",
   "metadata": {},
   "source": [
    "## 5. 4번 문제에 정의된 MySet 클래스에 메소드를 추가하여 다음 각 요구사항 모두를 만족시키는 코딩을 제시하시오"
   ]
  },
  {
   "cell_type": "markdown",
   "metadata": {},
   "source": [
    "* 정답을 각 요구사항별로 입력할 필요 없이 요구사항 3개 전체에 대해 1개의 MySet 클래스 정의 코드를 제시하고 주석등으로 해당 코드를 설명한다.\n",
    "\n",
    "* 요구사항 1. | 연산으로 두 집합의 합집합을 반환한다.\n",
    "* 요구사항 2. & 연산으로 두 집합의 교집합을 반환한다.\n",
    "* 요구사항 3. - 연산으로 두 집합의 차집합을 반환한다."
   ]
  },
  {
   "cell_type": "code",
   "execution_count": 19,
   "metadata": {},
   "outputs": [
    {
     "name": "stdout",
     "output_type": "stream",
     "text": [
      "MySet: {1 ,2 ,3}\n",
      "MySet: {2 ,3 ,4 ,5 ,6 ,7 ,8 ,9}\n",
      "\n",
      "MySet: {1 ,2 ,3 ,4 ,5 ,6 ,7 ,8 ,9}\n",
      "\n",
      "MySet: {2 ,3}\n",
      "\n",
      "MySet: {1 ,2}\n"
     ]
    }
   ],
   "source": [
    "class MySet(list):\n",
    "    def __init__(self, l):\n",
    "        for e in l:\n",
    "            self.append(e)\n",
    "        MySet.eliminate_duplicate(self)\n",
    "    \n",
    "    def __str__(self):\n",
    "        result = \"MySet: {\"\n",
    "        for e in self:\n",
    "            result = result + str(e) + \" ,\"\n",
    "        result = result[0:len(result)-2] + \"}\"\n",
    "        return result\n",
    "    \n",
    "    \n",
    "    # 요구사항1 \n",
    "    def __or__(self, other):    \n",
    "        l = []                  \n",
    "        for e in self:\n",
    "            l.append(e)\n",
    "        for e in other:\n",
    "            l.append(e)\n",
    "            \n",
    "        result = MySet(l)        \n",
    "        return result         \n",
    "\n",
    "    # 요구사항2\n",
    "    def __and__(self, other):    \n",
    "        l = []                   \n",
    "        for e in other:          \n",
    "            if e in self:       \n",
    "                l.append(e)\n",
    "        result = MySet(l)\n",
    "        return result\n",
    "    \n",
    "    \n",
    "    # 요구사항3\n",
    "    def __sub__(self, other):    \n",
    "        l = []                   \n",
    "        for e in self:           \n",
    "            if e not in other:  \n",
    "                l.append(e)\n",
    "        result = MySet(l)\n",
    "        return result\n",
    "    \n",
    "    @staticmethod    \n",
    "    def eliminate_duplicate(l):\n",
    "        s = []\n",
    "        for e in l:\n",
    "            if e not in s:\n",
    "                s.append(e)\n",
    "        l[:] = []\n",
    "        for e in s:\n",
    "            l.append(e)\n",
    "\n",
    "    \n",
    "if __name__ == \"__main__\":\n",
    "    s = MySet([1, 2, 2, 3])\n",
    "    print (s)\n",
    "    t = MySet([2, 3, 4, 5, 6, 7, 8, 8, 8, 8, 8, 9])\n",
    "    print (t)\n",
    "    print ()\n",
    "    \n",
    "u = s | t\n",
    "print (u)\n",
    "print ()\n",
    "\n",
    "\n",
    "u = s & t\n",
    "print (u)\n",
    "print ()\n",
    "\n",
    "\n",
    "s = MySet([1, 2, 3])\n",
    "t = MySet([3, 4, 5])\n",
    "u = s - t\n",
    "print (u)"
   ]
  },
  {
   "cell_type": "markdown",
   "metadata": {},
   "source": [
    "1. 합집합을 반환하기 위해 __or__()함수를 정의한다. 합집합이기 때문에 빈 리스트에 self와 other에 있는 값을 suppend한다. 값을 반환할 때에는 MySet객체에 리스트를 포함하여 반환하도록 한다.\n",
    "\n",
    "2. 교집합을 반환하기 위해 __and__()함수를 정의한다. 두 객체 모두가 가지고 있는 값만 반환해야하기 때문에 other에 있는 값 중 동일하게 가지고 있는 값만 리스트에 추가한다.\n",
    "\n",
    "3. 차집합을 반환하기 위해 __sub__()함수를 정의한다. 차집합은 교집합과 반대되는 개념이므로 위에 교집합에 사용했던 조건문을 반대로 사용하면 된다. 여기서 주의할점은 self의 값들을 비교하고 other에 없는 값만을 받아야 한다."
   ]
  },
  {
   "cell_type": "markdown",
   "metadata": {},
   "source": [
    "## 6. 5번 문제에서 정의한 MySet 클래스에 대해 다음 예제를 수행하면 오류없이 올바르게 동작하는 것을 확인할 수 있다. 다음 예제 내에 있는 len(), bool() 내장함수와 in 키워드 사용 예제가 별다른 메소드 정의를 하지 않았는 데도 올바르게 수행되는 이유를 설명하시오."
   ]
  },
  {
   "cell_type": "code",
   "execution_count": 22,
   "metadata": {},
   "outputs": [
    {
     "name": "stdout",
     "output_type": "stream",
     "text": [
      "6\n",
      "True\n",
      "True\n"
     ]
    }
   ],
   "source": [
    "\n",
    "s = MySet([1, 2, 3, 4, 5, 6])\n",
    "\n",
    "print (len(s))\n",
    "print (bool(s))\n",
    "print (2 in s)"
   ]
  },
  {
   "cell_type": "markdown",
   "metadata": {},
   "source": [
    "MySet이 list를 상속받았기에 가능하다. 따라서 길이를 반환하는 len함수, 빈 리스트인지를 판단하는 bool함수, 원소가 있는지 반환하는 in등이 모두 이용 가능하다."
   ]
  },
  {
   "cell_type": "markdown",
   "metadata": {},
   "source": [
    "## 7.이전 Assignment 3 & Assignment 4를 다시 확장/변형하여 다음과 같은 조건을 만족하도록 구현하시오 (CODE REFACTORING!!!)."
   ]
  },
  {
   "cell_type": "markdown",
   "metadata": {},
   "source": [
    "한학기동안 스트립트 프로그래밍을 배우며 어려운점이 많았지만 얻어간 것도 많았다. 한번에 언어 세가지를 하려니 살짝 헷갈리기도 하고 힘들었지만 세 언어중 파이썬이 가장 매력적으로 느껴졌다. 물론 파이썬도 깊게 들어갈수록 어려웠지만 가장 효율적인 언어라는 것을 알았다. 과제를 수행하며 처음에는 잘 몰라 길게만 작성하던 코드가 배워갈수록 간단하고 효율적으로 변해가는 모습이 신기했다."
   ]
  },
  {
   "cell_type": "code",
   "execution_count": null,
   "metadata": {},
   "outputs": [],
   "source": []
  }
 ],
 "metadata": {
  "kernelspec": {
   "display_name": "Python 3",
   "language": "python",
   "name": "python3"
  },
  "language_info": {
   "codemirror_mode": {
    "name": "ipython",
    "version": 3
   },
   "file_extension": ".py",
   "mimetype": "text/x-python",
   "name": "python",
   "nbconvert_exporter": "python",
   "pygments_lexer": "ipython3",
   "version": "3.7.0"
  }
 },
 "nbformat": 4,
 "nbformat_minor": 2
}
