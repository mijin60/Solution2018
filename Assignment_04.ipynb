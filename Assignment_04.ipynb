{
 "cells": [
  {
   "cell_type": "markdown",
   "metadata": {},
   "source": [
    "## [1번 문제]\n",
    "### 파일 s.txt 내의 다음 내용과 함께 아래 문제의 코드를 제시하시오."
   ]
  },
  {
   "cell_type": "markdown",
   "metadata": {},
   "source": [
    "* pig ham\n",
    "* cat dog\n",
    "* ham bird\n",
    "* dog pig"
   ]
  },
  {
   "cell_type": "markdown",
   "metadata": {},
   "source": [
    "1) 파일 s.txt을 읽어서 각 라인에 있는 첫 번째 단어(문자열) 자체들을 기준으로 라인별 정렬후 파일 s1.txt에 그 결과를 기록하는 코드를 작성하시오. 즉, 프로그램 수행 후 s1.txt에 있는 파일 내용은 다음과 같다."
   ]
  },
  {
   "cell_type": "code",
   "execution_count": 3,
   "metadata": {},
   "outputs": [],
   "source": [
    "f=open('s.txt','r')\n",
    "line = f.readlines()\n",
    "line.sort()\n",
    "f.close()\n",
    "\n",
    "f = open('s1.txt','w')\n",
    "f.writelines(line)\n",
    "f.close()"
   ]
  },
  {
   "cell_type": "markdown",
   "metadata": {},
   "source": [
    "읽기모드로 파일을 불러온다. 그 다음 리스트를 정력하고 쓰기모드로 불러와서 내용을 정리한다."
   ]
  },
  {
   "cell_type": "markdown",
   "metadata": {},
   "source": [
    "2) 파일 s.txt을 읽어서 각 라인에 있는 두 번째 단어(문자열) 자체들을 기준으로 라인별 정렬후 파일 s2.txt에 그 결과를 기록하는 코드를 작성하시오. 즉, 프로그램 수행 후 s2.txt에 있는 파일 내용은 다음과 같다."
   ]
  },
  {
   "cell_type": "code",
   "execution_count": 4,
   "metadata": {},
   "outputs": [
    {
     "name": "stdout",
     "output_type": "stream",
     "text": [
      "ham bird\n",
      "cat dog\n",
      "pig ham\n",
      "dog pig\n",
      "\n"
     ]
    }
   ],
   "source": [
    "f=open('s.txt','r')\n",
    "line = f.read()\n",
    "f.close()\n",
    "\n",
    "line2 = []\n",
    "word = line.split()\n",
    "for i in range(len(word)):\n",
    "    if(i%2!=0):\n",
    "        line2.append(word[i])\n",
    "line2.sort()\n",
    "\n",
    "linelist = []\n",
    "plusword= ''\n",
    "\n",
    "for i in range(len(line2)):\n",
    "    for w in range(len(word)):\n",
    "        if((w%2!=0) and (line2[i]==word[w])):\n",
    "            plusword=word[w-1]+' '+word[w]+'\\n'\n",
    "            linelist.append(plusword)\n",
    "\n",
    "f = open('s2.txt','w')\n",
    "f.writelines(linelist)\n",
    "f.close()\n",
    "f=open('s2.txt','r')\n",
    "print (f.read())\n",
    "f.close()"
   ]
  },
  {
   "cell_type": "markdown",
   "metadata": {},
   "source": [
    "read를 통해 파일 내용을 읽어온다. 두번째 단어를 가질 리스트를 설정하고 두번쨰 단어를 정렬한다. 파일에 쓰일 문자열을 가질 리스트를 설정하고 단어들을 붙여준다. for문을 통해 단어를 비교하고 합쳐진 문자열을 linelist에 넣는다."
   ]
  },
  {
   "cell_type": "markdown",
   "metadata": {},
   "source": [
    "3) 파일 s.txt을 읽어서 각 라인들에 있는 모든 단어들을 순차적으로 다시 나열하되 각 라인에 세 개의 단어들이 오도록 하여 s3.txt에 기록하는 코드를 작성하시오. 즉, 프로그램 수행 후 s3.txt에 있는 파일 내용은 다음과 같다."
   ]
  },
  {
   "cell_type": "code",
   "execution_count": 5,
   "metadata": {},
   "outputs": [
    {
     "name": "stdout",
     "output_type": "stream",
     "text": [
      "pig ham cat\n",
      "dog ham bird\n",
      "dog pig\n",
      "\n"
     ]
    }
   ],
   "source": [
    "f=open('s.txt','r')\n",
    "s = f.read()\n",
    "f.close()\n",
    "\n",
    "word = s.split()\n",
    "wordline = []\n",
    "temp = ''\n",
    "\n",
    "for i in range(0,len(word),3):\n",
    "    temp = word[i]\n",
    "    for j in range(i+1,i+3):\n",
    "        if(j>=len(word)):\n",
    "            break\n",
    "        temp = temp+' '+word[j]\n",
    "    temp+='\\n'\n",
    "    wordline.append(temp)\n",
    "\n",
    "f = open('s3.txt','w')\n",
    "f.writelines(wordline)\n",
    "f.close()\n",
    "\n",
    "f=open('s3.txt','r')\n",
    "print (f.read())\n",
    "f.close()"
   ]
  },
  {
   "cell_type": "markdown",
   "metadata": {},
   "source": [
    "파일을 읽기모드로 불러 읽어준다. 다음 파일의 단어를 나누어 리스트를 만들고 for문으로 단어를 끊어준다. 끊은 단어를 리스트에 넣어주고 쓰기모드로 파일을 돌려준후 출력한다."
   ]
  },
  {
   "cell_type": "markdown",
   "metadata": {},
   "source": [
    "## [2번 문제]\n",
    "### 다음과 같은 조건들을 참고하여 회원 가입 및 로그인 프로그램을 작성하시오."
   ]
  },
  {
   "cell_type": "markdown",
   "metadata": {},
   "source": [
    "1. 프로그램 시작 후 다음과 같은 메시지가 출력되어 1, 2, 3 중 하나의 값을 입력 받도록 한다.\n",
    "Welcome to Our Service\n",
    "\n",
    " * Sign Up\n",
    " * Sign In\n",
    " * Quit"
   ]
  },
  {
   "cell_type": "markdown",
   "metadata": {},
   "source": [
    "2. 1을 선택하면 ID, Password, Name, School의 4가지 정보를 입력받아 파일에 저장하는 프로그램을 작성한다.\n",
    "    * 2-1. 입력된 내용은 access.txt 라는 이름의 텍스트 파일 내에 저장된다.\n",
    "    * 2-2. access.txt 파일의 각 라인에는 가입된 회원 각각의 정보가 \"[id]: [password], [name], [school]\" 형태로 저장된다.\n",
    "    * 2-3. 즉, 가입 회원이 10명이면 access.txt 파일 내에 라인 수도 정확히 10개이다.\n",
    "    * 2-4. 암호화 방식은 sha 모듈을 활용한다. sha 모듈 활용 방법은 본 문제의 마지막에 제시된 sha 활용 예를 참고한다.즉, access.txt 파일 내에 password 정보는 암호화 되어 저장되어야 한다.\n",
    "    * 2-5. 회원 정보를 입력 받을 때 id를 입력 받은 직후 access.txt를 확인하여 이미 존재하는 id가 입력되었다면 다음 메시지를 출력하고 id 정보를 다시 입력받는다. Sorry, the entered ID is already used."
   ]
  },
  {
   "cell_type": "markdown",
   "metadata": {},
   "source": [
    "3. 2를 선택하면 ID, Password의 2가지 정보를 입력받는 프로그램을 작성한다.\n",
    "    * 3-1. 입력된 ID 정보가 access.txt에 존재하지 않으면 다음과 같은 메시지를 출력하고 다시 입력받는다.\n",
    "    * Sorry, you are not a registered member.\n",
    "    * 3-2. 입력된 ID가 올바르게 존재하지만 Password 정보가 access.txt 파일에 있는 정보와 불일치하면 다음과 같은 메시지를 출력하고 Password를 다시 입력받는다.\n",
    "    * Sorry, the entered password is not correct.\n",
    "    * 이 때에도 사용자가 입력한 Password 정보와 함께 sha 모듈이 활용되어야 한다.\n",
    "    * 3-3. 입력된 ID와 Password가 모두 올바르면 다음과 같은 메시지를 출력한다.\n",
    "    * Hello [name]!\n",
    "    * 위 [name]에는 access.txt에 기록되어 있는 name 정보를 출력한다."
   ]
  },
  {
   "cell_type": "markdown",
   "metadata": {},
   "source": [
    "4. 3을 선택하면 프로그램이 끝난다."
   ]
  },
  {
   "cell_type": "code",
   "execution_count": null,
   "metadata": {},
   "outputs": [
    {
     "name": "stdout",
     "output_type": "stream",
     "text": [
      "Welcome to Our Service\n",
      " 1. Sign Up\n",
      " 2. Sign In\n",
      " 3. Quit\n",
      "Choose Menu : 3\n",
      "잘못된 입력입니다.\n",
      "Welcome to Our Service\n",
      " 1. Sign Up\n",
      " 2. Sign In\n",
      " 3. Quit\n",
      "Choose Menu : 2\n",
      "잘못된 입력입니다.\n",
      "Welcome to Our Service\n",
      " 1. Sign Up\n",
      " 2. Sign In\n",
      " 3. Quit\n",
      "Choose Menu : 6\n",
      "잘못된 입력입니다.\n",
      "Welcome to Our Service\n",
      " 1. Sign Up\n",
      " 2. Sign In\n",
      " 3. Quit\n"
     ]
    }
   ],
   "source": [
    "def encrypt(password_plain):\n",
    "    import sha\n",
    "    password_encrypted = sha.new(password_plain).hexdigest()\n",
    "    return password_encrypted\n",
    "\n",
    "def Print_Menu():\n",
    "    print ('Welcome to Our Service')\n",
    "    print (' 1. Sign Up')\n",
    "    print (' 2. Sign In')\n",
    "    print (' 3. Quit')\n",
    "\n",
    "def str_replace(cont):\n",
    "    li = []\n",
    "    cont=cont.replace(',',' ')\n",
    "    cont=cont.replace('[', ' ')\n",
    "    cont=cont.replace(']', ' ')\n",
    "    cont=cont.replace(':', ' ')\n",
    "    li = cont.split()\n",
    "    return li\n",
    "\n",
    "def IsID_Check(contents,input_id):\n",
    "    for cont in contents:\n",
    "        li = str_replace(cont)\n",
    "        if(li[0]==input_id):\n",
    "            print ('Sorry, the entered ID is already used.')\n",
    "            return True\n",
    "    return False\n",
    "\n",
    "def IsID_Check2(contents,input_id):\n",
    "    for cont in contents:\n",
    "        li = str_replace(cont)\n",
    "        if(li[0]==input_id):\n",
    "            return True\n",
    "    print ('Sorry, you are not a registered member.')\n",
    "    return False\n",
    "\n",
    "def PassWord_Check(contents,input_id,input_password):\n",
    "    for cont in contents:\n",
    "        li = str_replace(cont)\n",
    "        if(li[0]==input_id):\n",
    "            if(li[1]==input_password):\n",
    "                return True\n",
    "    print ('Sorry, the entered password is not correct.')    \n",
    "    return False\n",
    "\n",
    "def GetName(contents,input_id):\n",
    "     for cont in contents:\n",
    "        li = str_replace(cont)\n",
    "        if(li[0]==input_id):\n",
    "            return li[2]\n",
    "def OurService():\n",
    "    Print_Menu()\n",
    "    a= input(\"Choose Menu : \")\n",
    "    if(a==1):\n",
    "        f=open('access.txt','a+')\n",
    "        f.seek(0)\n",
    "        contents = f.readlines()\n",
    "        s=''\n",
    "        ID = raw_input(\"ID : \")\n",
    "        while(IsID_Check(contents,ID)):\n",
    "            ID = raw_input(\"ID : \")\n",
    "        PassWord = raw_input(\"PassWord : \")\n",
    "        PassWord = encrypt(PassWord)\n",
    "        Name = raw_input(\"Name : \")\n",
    "        School = raw_input(\"School : \")\n",
    "        s = '['+ID+']: '+'['+PassWord+'], ['+Name+'], ['+School+']\\n'\n",
    "        f.write(s)\n",
    "        f.close()\n",
    "    elif(a==2):\n",
    "        f=open('access.txt','r')\n",
    "        contents = f.readlines()\n",
    "        ID = raw_input(\"ID : \")\n",
    "        while(IsID_Check2(contents,ID)==False):\n",
    "            ID = raw_input(\"ID : \")\n",
    "        PassWord = raw_input(\"PassWord : \")\n",
    "        PassWord = encrypt(PassWord)\n",
    "        while(PassWord_Check(contents,ID,PassWord)==False):\n",
    "            PassWord = raw_input(\"PassWord : \")\n",
    "            PassWord = encrypt(PassWord)\n",
    "        name = GetName(contents,ID)\n",
    "        print ('Hello['+name+']!')\n",
    "        f.close()\n",
    "    elif(a==3):\n",
    "        print ('프로그램 종료')\n",
    "    else:\n",
    "        print ('잘못된 입력입니다.')\n",
    "        OurService()        \n",
    "    \n",
    "OurService()"
   ]
  },
  {
   "cell_type": "markdown",
   "metadata": {},
   "source": [
    "## [3번 문제]\n",
    "### range() 함수와 유사한 frange() 함수를 다음 조건을 참고하여 만드시오."
   ]
  },
  {
   "cell_type": "markdown",
   "metadata": {},
   "source": [
    "1. frange()의 인자 구성은 다음과 같이 range와 동일하지만 각 인수들은 음수를 받지 않는다고 가정한다.\n",
    "    * range(stop)\n",
    "    * range(start, stop[, step])\n",
    "\n",
    "2. frange() 함수의 인자에 대한 기본 시작(start) 값은 0.0이고, 기본 단계(step) 값은 0.1이다.\n",
    "3. frange 사용 예\n",
    "    * 3-1. frange(0.5)\n",
    "        * [0.0, 0.1, 0.2, 0.3, 0.4]\n",
    "    * 3-2. frange(1.0, 2.0)\n",
    "        * [1.0, 1.1, 1.2, 1.3, 1.4, 1.5, 1.6, 1.7, 1.8, 1.9]\n",
    "    * 3-3. frange(2.2, 4.0, 0.5)\n",
    "        * [2.2, 2.7, 3.2, 3.7]"
   ]
  },
  {
   "cell_type": "code",
   "execution_count": 1,
   "metadata": {},
   "outputs": [
    {
     "name": "stdout",
     "output_type": "stream",
     "text": [
      "[0.0, 0.1, 0.2, 0.3, 0.4]\n",
      "[1.0, 1.1, 1.2, 1.3, 1.4, 1.5, 1.6, 1.7, 1.8, 1.9]\n",
      "[2.2, 2.7, 3.2, 3.7]\n"
     ]
    }
   ],
   "source": [
    "def frange(start,stop=None,step=0.1):\n",
    "    if(stop==None):\n",
    "        stop=start+0.0\n",
    "        start=0.0\n",
    "        \n",
    "    L = []\n",
    "    while(True):\n",
    "        num=start+len(L)*step\n",
    "        if((step>0)and(num>=stop)):\n",
    "            break\n",
    "        elif((step<0)and(num<=stop)):\n",
    "            break\n",
    "        num = round(num,1)\n",
    "        L.append(num)\n",
    "    return L\n",
    "print (frange(0.5))\n",
    "print (frange(1.0, 2.0))\n",
    "print (frange(2.2, 4.0, 0.5))"
   ]
  },
  {
   "cell_type": "markdown",
   "metadata": {},
   "source": [
    "인자가 하나만 들어올 경우에 그 값은 start가 아닌 stop에 할당되어야 하는데 하나가 들어올 경우 start에 할당되기 때문에 조건을 추가하여 stop이 0인 경우를 추가해주었다.\n",
    "다음 num을 계산하여 리스트에 넣어주고 num이 범위 내의 경우 step을 확인하고 추가해주는 과정을 반복하고 소수 출력이 0.3000000과 같이 되는 것을 방지하기 위해 round함수를 추가해주었다."
   ]
  },
  {
   "cell_type": "markdown",
   "metadata": {},
   "source": [
    "## [4번 문제]\n",
    "### 가변인수를 받는 함수 sum()을 다음과 같은 조건을 참고하여 구현하시오"
   ]
  },
  {
   "cell_type": "markdown",
   "metadata": {},
   "source": [
    "* sum() 사용 예\n",
    "    * sum()\n",
    "        * 0\n",
    "    * sum(1, 2)\n",
    "        * 3\n",
    "    * sum(1, 2, 3, 4, 5)\n",
    "        * 15\n",
    "    * sum(1, 5, 7, 2, -10)\n",
    "        * 5"
   ]
  },
  {
   "cell_type": "code",
   "execution_count": 2,
   "metadata": {},
   "outputs": [
    {
     "name": "stdout",
     "output_type": "stream",
     "text": [
      "0\n",
      "3\n",
      "15\n",
      "5\n"
     ]
    }
   ],
   "source": [
    "def sum(*arg):\n",
    "    sum_num=0\n",
    "    for i in arg:\n",
    "        sum_num+=i\n",
    "    return sum_num\n",
    "print (sum())\n",
    "print (sum(1, 2))\n",
    "print (sum(1, 2, 3, 4, 5))\n",
    "print (sum(1,5,7,2,-10))"
   ]
  },
  {
   "cell_type": "markdown",
   "metadata": {},
   "source": [
    "가변인수의 경우 하나의 튜플로 받아지기 때문에 합을 계산한 후에 반환한다."
   ]
  },
  {
   "cell_type": "markdown",
   "metadata": {},
   "source": [
    "## [5번 문제]\n",
    "### 여러 단어로 이루어진 문자열을 입력받아 각 단어의 첫글자로 이루어진 단어를 대문자로 출력하는 myinitial() 함수를 다음 조건을 참고하여 작성하시오."
   ]
  },
  {
   "cell_type": "markdown",
   "metadata": {},
   "source": [
    "* 1. 다음에 제시되는 함수들을 모두 이용해야 한다.        \n",
    "        * split\n",
    "        * map\n",
    "        * join\n",
    "* 2. myinitial() 함수 사용 예\n",
    "        * myinitial(\"as soon as possible\")\n",
    "            * ASAP"
   ]
  },
  {
   "cell_type": "code",
   "execution_count": 19,
   "metadata": {},
   "outputs": [],
   "source": [
    "def upstring(string):\n",
    "    \n",
    "    string = string.split(\" \")\n",
    "    string = map(lambda x:x[0].upper() ,string)\n",
    "    string = \"\".join(string)\n",
    "    \n",
    "    return string"
   ]
  },
  {
   "cell_type": "code",
   "execution_count": 20,
   "metadata": {},
   "outputs": [
    {
     "data": {
      "text/plain": [
       "'ASAP'"
      ]
     },
     "execution_count": 20,
     "metadata": {},
     "output_type": "execute_result"
    }
   ],
   "source": [
    "upstring(\"as soon as possible\")"
   ]
  },
  {
   "cell_type": "markdown",
   "metadata": {},
   "source": [
    "일단 split을 이용해 단어를 쪼개주고 람다함수를 이용해 첫글자만 대문자로 바꾸어준뒤 join을 이용해 합쳐준다. as soon as possible을 입력하면 ASAP가 출력된다."
   ]
  },
  {
   "cell_type": "markdown",
   "metadata": {},
   "source": [
    "## [6번 문제]\n",
    "### 음이 아닌 정수 n를 입력받으면 n! (factorial)을 계산하는 myfact() 함수를 재귀적 함수로 구현하시오."
   ]
  },
  {
   "cell_type": "code",
   "execution_count": 13,
   "metadata": {},
   "outputs": [
    {
     "name": "stdout",
     "output_type": "stream",
     "text": [
      "402387260077093773543702433923003985719374864210714632543799910429938512398629020592044208486969404800479988610197196058631666872994808558901323829669944590997424504087073759918823627727188732519779505950995276120874975462497043601418278094646496291056393887437886487337119181045825783647849977012476632889835955735432513185323958463075557409114262417474349347553428646576611667797396668820291207379143853719588249808126867838374559731746136085379534524221586593201928090878297308431392844403281231558611036976801357304216168747609675871348312025478589320767169132448426236131412508780208000261683151027341827977704784635868170164365024153691398281264810213092761244896359928705114964975419909342221566832572080821333186116811553615836546984046708975602900950537616475847728421889679646244945160765353408198901385442487984959953319101723355556602139450399736280750137837615307127761926849034352625200015888535147331611702103968175921510907788019393178114194545257223865541461062892187960223838971476088506276862967146674697562911234082439208160153780889893964518263243671616762179168909779911903754031274622289988005195444414282012187361745992642956581746628302955570299024324153181617210465832036786906117260158783520751516284225540265170483304226143974286933061690897968482590125458327168226458066526769958652682272807075781391858178889652208164348344825993266043367660176999612831860788386150279465955131156552036093988180612138558600301435694527224206344631797460594682573103790084024432438465657245014402821885252470935190620929023136493273497565513958720559654228749774011413346962715422845862377387538230483865688976461927383814900140767310446640259899490222221765904339901886018566526485061799702356193897017860040811889729918311021171229845901641921068884387121855646124960798722908519296819372388642614839657382291123125024186649353143970137428531926649875337218940694281434118520158014123344828015051399694290153483077644569099073152433278288269864602789864321139083506217095002597389863554277196742822248757586765752344220207573630569498825087968928162753848863396909959826280956121450994871701244516461260379029309120889086942028510640182154399457156805941872748998094254742173582401063677404595741785160829230135358081840096996372524230560855903700624271243416909004153690105933983835777939410970027753472000000000000000000000000000000000000000000000000000000000000000000000000000000000000000000000000000000000000000000000000000000000000000000000000000000000000000000000000000000000000000000000000000000000000000000000000000000000000000000000000000000000\n"
     ]
    }
   ],
   "source": [
    "def myfact(n):\n",
    "    if(n==0):\n",
    "        return 1\n",
    "    if(n==1):\n",
    "        return 1\n",
    "    else:\n",
    "        return n*myfact(n-1)\n",
    "print (myfact(1000))"
   ]
  },
  {
   "cell_type": "markdown",
   "metadata": {},
   "source": [
    "n값이 0, 1인경우에는 1을 반환하고 나머지의 경우 팩토리얼을 출력한다."
   ]
  },
  {
   "cell_type": "markdown",
   "metadata": {},
   "source": [
    "## [7번 문제]\n",
    "### (서술형) import string 과 from string import * 의 차이점을 설명하시오."
   ]
  },
  {
   "cell_type": "markdown",
   "metadata": {},
   "source": [
    "import string의 경우 이름공간인 string이 그대로 유지된다. 이는 모듈을 불러오는 형태이기 때문에 이름을 string.area()로 사용하고 문자열 연산을 제공한다.\n",
    "from string impotr*는 '_'로 시작하는 이름을 제외하기 때문에 모듈이름 없이 직접 사용하고 현재 이름으로 불러들인다. 현재 이름에 존재할경우 기존 객체를 상실한다."
   ]
  },
  {
   "cell_type": "code",
   "execution_count": null,
   "metadata": {},
   "outputs": [],
   "source": []
  }
 ],
 "metadata": {
  "kernelspec": {
   "display_name": "Python 3",
   "language": "python",
   "name": "python3"
  },
  "language_info": {
   "codemirror_mode": {
    "name": "ipython",
    "version": 3
   },
   "file_extension": ".py",
   "mimetype": "text/x-python",
   "name": "python",
   "nbconvert_exporter": "python",
   "pygments_lexer": "ipython3",
   "version": "3.7.0"
  }
 },
 "nbformat": 4,
 "nbformat_minor": 2
}
